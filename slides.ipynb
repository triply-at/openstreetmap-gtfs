{
 "cells": [
  {
   "cell_type": "markdown",
   "metadata": {
    "slideshow": {
     "slide_type": "slide"
    }
   },
   "source": [
    "# Transit Data and OpenStreetMap\n",
    "\n",
    "### Nikolai Janakiev ([@njanakiev](https://twitter.com/njanakiev)), [Triply](https://triply.at/)\n",
    "- Slides @ [triply-at.github.io/openstreetmap-gtfs](https://triply-at.github.io/openstreetmap-gtfs)\n",
    "- Repository @ [github.com/triply-at/openstreetmap-gtfs](https://github.com/triply-at/openstreetmap-gtfs)"
   ]
  },
  {
   "cell_type": "markdown",
   "metadata": {
    "slideshow": {
     "slide_type": "slide"
    }
   },
   "source": [
    "# General Transit Feed Specification (GTFS)\n",
    "\n",
    "- [GTFS Static Overview](https://developers.google.com/transit/gtfs)"
   ]
  },
  {
   "cell_type": "markdown",
   "metadata": {
    "slideshow": {
     "slide_type": "slide"
    }
   },
   "source": [
    "[![GTFS Schema](assets/gtfs-schema-simplified.png)](https://raw.githubusercontent.com/MobilityData/gtfs-flex/master/spec/GTFS_GTFS-flex_v2_Schema_Diagram.png)"
   ]
  },
  {
   "cell_type": "markdown",
   "metadata": {
    "slideshow": {
     "slide_type": "slide"
    }
   },
   "source": [
    "# Public GTFS Data Sources\n",
    "\n",
    "- [OpenMobilityData.org](https://openmobilitydata.org/) (previously TransitFeeds)\n",
    "- [Transit.land](https://www.transit.land/)\n",
    "- Local Open Data Portals\n",
    "    - [Wiener Linien – Fahrplandaten GTFS Wien](https://www.data.gv.at/katalog/dataset/wiener-linien-fahrplandaten-gtfs-wien)"
   ]
  },
  {
   "cell_type": "markdown",
   "metadata": {
    "slideshow": {
     "slide_type": "slide"
    }
   },
   "source": [
    "# Public Feeds @ [transit.land](https://www.transit.land/)\n",
    "\n",
    "![Feeds BBox](assets/feeds_bbox.jpg)"
   ]
  },
  {
   "cell_type": "markdown",
   "metadata": {
    "slideshow": {
     "slide_type": "slide"
    }
   },
   "source": [
    "# Coverage Europe\n",
    "\n",
    "![Feeds BBox Europe](assets/feeds_bbox_europe.jpg)"
   ]
  },
  {
   "cell_type": "markdown",
   "metadata": {
    "slideshow": {
     "slide_type": "slide"
    }
   },
   "source": [
    "# GTFS Tools"
   ]
  },
  {
   "cell_type": "markdown",
   "metadata": {
    "slideshow": {
     "slide_type": "fragment"
    }
   },
   "source": [
    "### Reading and Writing\n",
    "\n",
    "- [remix/partridge](https://github.com/remix/partridge)\n",
    "\n",
    "### Validation\n",
    "\n",
    "- [MobilityData/gtfs-validator](https://github.com/MobilityData/gtfs-validator)\n",
    "\n",
    "### Routing\n",
    "\n",
    "- [conveyal/r5](https://github.com/conveyal/r5)\n",
    "- [opentripplanner/OpenTripPlanner](https://github.com/opentripplanner/OpenTripPlanner)"
   ]
  },
  {
   "cell_type": "markdown",
   "metadata": {
    "slideshow": {
     "slide_type": "slide"
    }
   },
   "source": [
    "# OpenStreetMap"
   ]
  },
  {
   "cell_type": "markdown",
   "metadata": {
    "slideshow": {
     "slide_type": "fragment"
    }
   },
   "source": [
    "![OSM Elements](assets/osm_elements.png)"
   ]
  },
  {
   "cell_type": "markdown",
   "metadata": {
    "slideshow": {
     "slide_type": "slide"
    }
   },
   "source": [
    "# OpenStreetMap Tags\n",
    "\n",
    "- [wiki.openstreetmap.org/wiki/Public_transport](https://wiki.openstreetmap.org/wiki/Public_transport)"
   ]
  },
  {
   "cell_type": "markdown",
   "metadata": {
    "slideshow": {
     "slide_type": "fragment"
    }
   },
   "source": [
    "- `highway=bus_stop`\n",
    "- `route=bus`\n",
    "    - `type=route`\n",
    "- `public_transport=*`\n",
    "    - `type=public_transport`\n",
    "    - `public_transport=station`\n",
    "    - `public_transport=stop_area`"
   ]
  },
  {
   "cell_type": "markdown",
   "metadata": {
    "slideshow": {
     "slide_type": "slide"
    }
   },
   "source": [
    "## Vienna Subway U3 ([relation/2928575](https://www.openstreetmap.org/relation/2928575))"
   ]
  },
  {
   "cell_type": "markdown",
   "metadata": {
    "slideshow": {
     "slide_type": "fragment"
    }
   },
   "source": [
    "![Vienna U3](assets/vienna_u3.jpg)"
   ]
  },
  {
   "cell_type": "markdown",
   "metadata": {
    "slideshow": {
     "slide_type": "slide"
    }
   },
   "source": [
    "# Vienna WLB Badner Bahn ([relation/2024982](https://www.openstreetmap.org/relation/2024982))"
   ]
  },
  {
   "cell_type": "markdown",
   "metadata": {
    "slideshow": {
     "slide_type": "fragment"
    }
   },
   "source": [
    "![Vienna WLB](assets/vienna_wlb.png)"
   ]
  },
  {
   "cell_type": "markdown",
   "metadata": {
    "slideshow": {
     "slide_type": "slide"
    }
   },
   "source": [
    "# Generating GTFS Feeds from OSM Data"
   ]
  },
  {
   "cell_type": "markdown",
   "metadata": {
    "slideshow": {
     "slide_type": "fragment"
    }
   },
   "source": [
    "- [grote/osm2gtfs](https://github.com/grote/osm2gtfs)\n",
    "- [hiposfer/o2g](https://github.com/hiposfer/o2g)"
   ]
  },
  {
   "cell_type": "markdown",
   "metadata": {
    "slideshow": {
     "slide_type": "fragment"
    }
   },
   "source": [
    "## Considerations\n",
    "\n",
    "- Assumptions: Time and Frequency\n",
    "- Filtering of Route Types\n",
    "- Filtering of smaller Agencies"
   ]
  },
  {
   "cell_type": "markdown",
   "metadata": {
    "slideshow": {
     "slide_type": "slide"
    }
   },
   "source": [
    "# Vienna GTFS Feed\n",
    "\n",
    "- [Wiener Linien – Fahrplandaten GTFS Wien](https://www.data.gv.at/katalog/dataset/wiener-linien-fahrplandaten-gtfs-wien)"
   ]
  },
  {
   "cell_type": "markdown",
   "metadata": {
    "slideshow": {
     "slide_type": "slide"
    }
   },
   "source": [
    "![Vienna GTFS](assets/vienna_gtfs.jpg)"
   ]
  },
  {
   "cell_type": "markdown",
   "metadata": {
    "slideshow": {
     "slide_type": "slide"
    }
   },
   "source": [
    "# Trip Frequency\n",
    "\n",
    "![Vienna Trips Per Hour](assets/vienna_trips_per_hour.jpg)"
   ]
  },
  {
   "cell_type": "markdown",
   "metadata": {
    "slideshow": {
     "slide_type": "slide"
    }
   },
   "source": [
    "# Comparing Results\n",
    "\n",
    "- Comparing Isochrone Polygons\n",
    "- Comparing Percentile Isochrones\n",
    "    - Mean Absolute Deviation\n",
    "    - Mean Absolute Distance"
   ]
  },
  {
   "cell_type": "markdown",
   "metadata": {
    "slideshow": {
     "slide_type": "slide"
    }
   },
   "source": [
    "![Vienna Isochrones Official](assets/vienna_isochrones_official_pt.png)\n",
    "![Vienna Isochrones Generated](assets/vienna_isochrones_generated_pt.png)"
   ]
  },
  {
   "cell_type": "markdown",
   "metadata": {
    "slideshow": {
     "slide_type": "slide"
    }
   },
   "source": [
    "![Vienna Isochrones Walk](assets/vienna_isochrones_walk.png)\n",
    "![Vienna Isochrones Walk](assets/vienna_isochrones_bike.png)"
   ]
  },
  {
   "cell_type": "markdown",
   "metadata": {
    "slideshow": {
     "slide_type": "slide"
    }
   },
   "source": [
    "# Mean Absolute Deviation"
   ]
  },
  {
   "cell_type": "markdown",
   "metadata": {
    "slideshow": {
     "slide_type": "fragment"
    }
   },
   "source": [
    "![Vienna MAD](assets/vienna_mad.png)"
   ]
  },
  {
   "cell_type": "markdown",
   "metadata": {
    "slideshow": {
     "slide_type": "slide"
    }
   },
   "source": [
    "# Mean Absolute Distance"
   ]
  },
  {
   "cell_type": "markdown",
   "metadata": {
    "slideshow": {
     "slide_type": "fragment"
    }
   },
   "source": [
    "![Vienna Distance Histogram](assets/vienna_distance_histogram.png)"
   ]
  },
  {
   "cell_type": "markdown",
   "metadata": {
    "slideshow": {
     "slide_type": "slide"
    }
   },
   "source": [
    "# Mean Absolute Distance Error"
   ]
  },
  {
   "cell_type": "markdown",
   "metadata": {
    "slideshow": {
     "slide_type": "fragment"
    }
   },
   "source": [
    "![Vienna Distance Error](assets/vienna_distance_error.png)"
   ]
  },
  {
   "cell_type": "markdown",
   "metadata": {
    "slideshow": {
     "slide_type": "slide"
    }
   },
   "source": [
    "# Transit Data and OpenStreetMap\n",
    "\n",
    "### Nikolai Janakiev ([@njanakiev](https://twitter.com/njanakiev)), [Triply](https://triply.at/)\n",
    "- Slides @ [triply-at.github.io/openstreetmap-gtfs](https://triply-at.github.io/openstreetmap-gtfs)\n",
    "- Repository @ [github.com/triply-at/openstreetmap-gtfs](https://github.com/triply-at/openstreetmap-gtfs)\n",
    "\n",
    "![Triply Logo](assets/triply_we_are_hiring.png)"
   ]
  },
  {
   "cell_type": "markdown",
   "metadata": {
    "slideshow": {
     "slide_type": "slide"
    }
   },
   "source": [
    "# Resources\n",
    "\n",
    "- [OpenMobilityData.org](https://openmobilitydata.org/) (previously TransitFeeds)\n",
    "- [Transit.land](https://www.transit.land/)\n",
    "- [Wiener Linien – Fahrplandaten GTFS Wien](https://www.data.gv.at/katalog/dataset/wiener-linien-fahrplandaten-gtfs-wien)\n",
    "- [grote/osm2gtfs](https://github.com/grote/osm2gtfs)\n",
    "- [hiposfer/o2g](https://github.com/hiposfer/o2g)\n",
    "- [CUTR-at-USF/awesome-transit](https://github.com/CUTR-at-USF/awesome-transit)\n",
    "- [remix/partridge](https://github.com/remix/partridge)\n",
    "- [MobilityData/gtfs-validator](https://github.com/MobilityData/gtfs-validator)\n",
    "- [conveyal/r5](https://github.com/conveyal/r5)\n",
    "- [opentripplanner/OpenTripPlanner](https://github.com/opentripplanner/OpenTripPlanner)"
   ]
  }
 ],
 "metadata": {
  "celltoolbar": "Slideshow",
  "kernelspec": {
   "display_name": "gis",
   "language": "python",
   "name": "gis"
  },
  "language_info": {
   "codemirror_mode": {
    "name": "ipython",
    "version": 3
   },
   "file_extension": ".py",
   "mimetype": "text/x-python",
   "name": "python",
   "nbconvert_exporter": "python",
   "pygments_lexer": "ipython3",
   "version": "3.7.6"
  }
 },
 "nbformat": 4,
 "nbformat_minor": 4
}
